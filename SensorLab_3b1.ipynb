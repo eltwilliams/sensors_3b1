{
 "cells": [
  {
   "cell_type": "markdown",
   "metadata": {},
   "source": [
    "# Sensor Lab 1\n",
    "\n",
    "We're going to be playing with sensor data today with the help of an Arduino Uno (or similar). By the end of this session, you should be able to interact with and plot data from various sensors using a combination of Python and C. This notebook should give you a starting point to work from.\n",
    "\n",
    "*Note to anyone looking at this repository in December 2018: This is very much a work in progress.*"
   ]
  },
  {
   "cell_type": "code",
   "execution_count": null,
   "metadata": {},
   "outputs": [],
   "source": []
  }
 ],
 "metadata": {
  "kernelspec": {
   "display_name": "Python 3",
   "language": "python",
   "name": "python3"
  },
  "language_info": {
   "codemirror_mode": {
    "name": "ipython",
    "version": 3
   },
   "file_extension": ".py",
   "mimetype": "text/x-python",
   "name": "python",
   "nbconvert_exporter": "python",
   "pygments_lexer": "ipython3",
   "version": "3.7.0"
  }
 },
 "nbformat": 4,
 "nbformat_minor": 2
}

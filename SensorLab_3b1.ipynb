{
 "cells": [
  {
   "cell_type": "markdown",
   "metadata": {},
   "source": [
    "\n",
    "# Sensor Lab 1\n",
    "\n",
    "We're going to be playing with sensor data today with the help of an Arduino Uno (or similar). By the end of this session, you should be able to interact with and plot data from various sensors using a combination of Python and C. This notebook should give you a starting point to work from.\n",
    "\n",
    "*Note to anyone looking at this repository in December 2018: This is very much a work in progress.*\n",
    "\n",
    "Prerequisites:\n",
    "- Install pyserial (https://pypi.org/project/pyserial)"
   ]
  },
  {
   "cell_type": "markdown",
   "metadata": {},
   "source": [
    "## 1.0 Load the relevant libraries\n"
   ]
  },
  {
   "cell_type": "code",
   "execution_count": 2,
   "metadata": {},
   "outputs": [],
   "source": [
    "import serial # used to establish a serial connection to your Arduino \n",
    "import subprocess # used to communicate with and upload sketches to your Arduino via commandline\n",
    "import time # used for various time functions"
   ]
  },
  {
   "cell_type": "markdown",
   "metadata": {},
   "source": [
    "## 2.0 Load the Arduino code\n",
    "\n",
    "This set of cells uploads the correct Arduino sketch to the Arduino, so you can start collecting the appropriate set of data.\n",
    "\n",
    "You don't have to use is section of cells at all -- you can simply upload your code via the graphical Arduino IDE if you want. However, I like putting everything I can in one notebook.\n",
    "\n",
    "The documentation on Arduino's command line interface can be found at https://github.com/arduino/Arduino/blob/master/build/shared/manpage.adoc\n"
   ]
  },
  {
   "cell_type": "markdown",
   "metadata": {},
   "source": [
    "### 2.1 Specify the location of the arduino program script"
   ]
  },
  {
   "cell_type": "code",
   "execution_count": 3,
   "metadata": {},
   "outputs": [],
   "source": [
    "#path name should be set to the location of your arduino program\n",
    "arduinoProg = \"~/arduino-1.8.8-linux64/arduino-1.8.8-linux64/arduino-1.8.8/arduino\" \n"
   ]
  },
  {
   "cell_type": "markdown",
   "metadata": {},
   "source": [
    "### 2.2: Specify the desired sketch (assumes specific comment header structure)\n",
    "\n",
    "In the cells below, we're reading in the first several (carefully crafted) comment lines from the Arduino script and using them to create a command line call to the arduino. \n",
    "\n",
    "Instructions: Comment out all but the arduinoScript line of interest in the cell immediately below this one, and execute the code cells in order."
   ]
  },
  {
   "cell_type": "code",
   "execution_count": 13,
   "metadata": {},
   "outputs": [],
   "source": [
    "# USER-MODIFIED CELL. Choose the correct arduino script for your project by uncommenting only the \n",
    "# appropriate arduinoScript line. Please note: for whatever reason you'll need the complete path name here\n",
    "\n",
    "# sketch_pystart : this is the shell code for arduino - can be adapted to any project\n",
    "arduinoScript = \"/home/liz/cecs8001_projects/sensors_3b1/sketch_pystart/sketch_pystart.ino\" \n",
    "\n",
    "# sketch_LEDdimmer : project 12 in Arduino beginner box; used to test i/o via serial\n",
    "#arduinoScript = \"/home/liz/cecs8001_projects/sensors_3b1/sketch_LEDdimmer/sketch_LEDdimmer.ino\""
   ]
  },
  {
   "cell_type": "code",
   "execution_count": 21,
   "metadata": {},
   "outputs": [
    {
     "name": "stdout",
     "output_type": "stream",
     "text": [
      "The specified Arduino sketch has passed our minimal error checking protocol. \n"
     ]
    }
   ],
   "source": [
    "# This cell should work for all scripts above\n",
    "\n",
    "scriptFile = open(arduinoScript,'r')\n",
    "startLine = scriptFile.readline()[3:].strip()\n",
    "actionLine = scriptFile.readline()[3:].strip()\n",
    "boardLine = scriptFile.readline()[3:].strip()\n",
    "portLine = scriptFile.readline()[3:].strip()\n",
    "endLine = scriptFile.readline()[3:].strip()\n",
    "scriptFile.close()\n",
    "\n",
    "#I use the naming and commenting convention I've created to customize the error check for each script\n",
    "scriptList = arduinoScript.split('/')\n",
    "scriptName = scriptList[len(scriptList)-1]\n",
    "scriptTitle = scriptName.split('.')[0]\n",
    "scriptTitleStart = scriptTitle + \"-begin\"\n",
    "scriptTitleEnd = scriptTitle + \"-end\"\n",
    "\n",
    "# Minimalist error checking for sketch_pystart:\n",
    "if (startLine != scriptTitleStart or endLine != scriptTitleEnd):\n",
    "    print(\"Wrong file selected. Are your arduinoScript path and file name correct?\");\n",
    "else: \n",
    "    print (\"The specified Arduino sketch has passed our minimal error checking protocol. \")"
   ]
  },
  {
   "cell_type": "markdown",
   "metadata": {},
   "source": [
    "In the cell below, we create the string containing the command we wish to issue to the Arduino IDE. This command is equivalent to what you would do in the Arduino IDE when you upload the specified sketch to your Arduino board."
   ]
  },
  {
   "cell_type": "code",
   "execution_count": 22,
   "metadata": {},
   "outputs": [
    {
     "name": "stdout",
     "output_type": "stream",
     "text": [
      "~/arduino-1.8.8-linux64/arduino-1.8.8-linux64/arduino-1.8.8/arduino --upload --board arduino:avr:uno --port /dev/ttyACM0 /home/liz/cecs8001_projects/sensors_3b1/sketch_pystart/sketch_pystart.ino -v -v -v -v\n"
     ]
    }
   ],
   "source": [
    "arduinoComm = arduinoProg + \" --\" + actionLine + \" --board \" + boardLine + \" --port \" + portLine + \" \" + arduinoScript\n",
    "arduinoComm = arduinoComm + \" -v -v -v -v\" #verbose mode\n",
    "print(arduinoComm)"
   ]
  },
  {
   "cell_type": "markdown",
   "metadata": {},
   "source": [
    "### 2.3 Load your sketch\n",
    "\n",
    "Below, we use the subprocess.call routine to pass the arduinoComm string to the command line, basically as if we were typing it directly into the bash terminal. \n",
    "\n",
    "**Notes:** \n",
    "- Since you're passing the command to the terminal, the complete result of that command appears in the terminal. Have a look. The verbose mode gives you more extensive output, which is useful for debugging. \n",
    "- This can take a little while. You're actually launching a java program to compile the sketch, upload it, etc, in the background.\n",
    "- **IMPORTANT: If you have uploaded a different sketch previously, press the reset button on the Arduino board before executing the code below.**"
   ]
  },
  {
   "cell_type": "code",
   "execution_count": 23,
   "metadata": {},
   "outputs": [
    {
     "name": "stdout",
     "output_type": "stream",
     "text": [
      "1\n",
      "\n",
      " Arduino sketch upload failed! Result code = 1 ... \n",
      " Build / upload failed.\n"
     ]
    }
   ],
   "source": [
    "errorCheck = subprocess.call(arduinoComm,shell=True)\n",
    "print(errorCheck)\n",
    "\n",
    "if errorCheck != 0:\n",
    "    print(\"\\n Arduino sketch upload failed! Result code = %s ... \" %(errorCheck))\n",
    "    if errorCheck == 1:\n",
    "        print(\" Build / upload failed.\")\n",
    "    if errorCheck == 2:\n",
    "        print(\" Sketch not found.\")\n",
    "    if errorCheck == 3:\n",
    "        print(\" Invalid command line input.\")\n",
    "    if errorCheck == 4:\n",
    "        print(\" Preference passed to --get-pref doesn't exist.\")\n",
    "else:\n",
    "    print(\"\\n Arduino sketch uploaded successfully!\")"
   ]
  },
  {
   "cell_type": "markdown",
   "metadata": {},
   "source": [
    "#### Troubleshooting: \n",
    "\n",
    "If you end up with anything other than success upon executing the cell above, here are some things to check:\n",
    "\n",
    "- *Can you upload the script directly from the Arduino IDE?* If not, you may have run into some trouble caused by our use of a VirtualBox o/s rather than our host o/s; I'm still not sure why this happens. The likely error is given below. If you see this, try shutting down your virtual machine and repeating the exercise from an Arduino IDE run on your host machine. If this works, then upload an empty sketch to your arduino, restart your virtual machine, re-open the notebook, and try again. If this doesn't work, check all your connections and try again. If this still doesn't work, swap your Arduino for another board and try again.\n",
    "\n",
    ">avrdude: stk500_recv(): programmer is not responding\n",
    ">\n",
    ">avrdude: stk500_getsync() attempt 1 of 10: not in sync: resp=0x00  \n",
    "\n",
    "- *Is there an error in your arduinoComm string?* If you get an invalid command line message, this might be the problem. Check the printed output, correct any errors, and try again. \n",
    "- *Did you forget to press the reset button on your board?* The best sign of this the appearance of the following errors in the terminal output: \n",
    "\n",
    ">    avrdude: stk500_initialize(): (b) protocol error, expect=0x10, resp=0x04\n",
    ">\n",
    ">    avrdude: initialization failed, rc=-1\n",
    ">\n",
    ">         Double check connections and try again, or use -F to override\n",
    ">         this check.\n"
   ]
  },
  {
   "cell_type": "markdown",
   "metadata": {},
   "source": [
    "## 3.0 Open up a serial connection to your Arduino"
   ]
  },
  {
   "cell_type": "markdown",
   "metadata": {},
   "source": [
    "In the next line, the first argument of serial.Serial is specific to your machine. If you are using the ubuntu VirtualBox distribution, this *should* work for you if you've properly set up your virtual machine serial port configuration within VBox. You can check which serial ports you have by typing \n",
    "\n",
    "   python -m serial.tools.list_ports\n",
    "   \n",
    "in a terminal.\n",
    "\n",
    "_Note to self: Provide instructions for this_\n",
    "\n",
    "The second argument of serial.Serial specifies the baud rate. This is the rate at which the device you have connected should communicate over the serial port. This is something you have (or will) specify in your Arduino code for this lab."
   ]
  },
  {
   "cell_type": "code",
   "execution_count": 7,
   "metadata": {},
   "outputs": [
    {
     "name": "stdout",
     "output_type": "stream",
     "text": [
      "/dev/ttyS0\n"
     ]
    }
   ],
   "source": [
    "ser = serial.Serial('/dev/ttyS0',9600) \n",
    "print(ser.name) #checks that the name of the serial device has been defined properly"
   ]
  },
  {
   "cell_type": "code",
   "execution_count": 8,
   "metadata": {},
   "outputs": [],
   "source": [
    "ser.flushInput()\n"
   ]
  },
  {
   "cell_type": "markdown",
   "metadata": {},
   "source": [
    "### 3.1 Test the data link"
   ]
  },
  {
   "cell_type": "code",
   "execution_count": 12,
   "metadata": {},
   "outputs": [
    {
     "name": "stdout",
     "output_type": "stream",
     "text": [
      "0\n",
      "0\n"
     ]
    }
   ],
   "source": [
    "time.sleep(2)\n",
    "print(ser.in_waiting)\n",
    "print(ser.out_waiting)\n",
    "    \n",
    "#while True:\n",
    "#   byte = ser.read(size=1)\n",
    "#  print(byte)"
   ]
  },
  {
   "cell_type": "code",
   "execution_count": null,
   "metadata": {},
   "outputs": [],
   "source": []
  }
 ],
 "metadata": {
  "kernelspec": {
   "display_name": "Python 3",
   "language": "python",
   "name": "python3"
  },
  "language_info": {
   "codemirror_mode": {
    "name": "ipython",
    "version": 3
   },
   "file_extension": ".py",
   "mimetype": "text/x-python",
   "name": "python",
   "nbconvert_exporter": "python",
   "pygments_lexer": "ipython3",
   "version": "3.7.0"
  }
 },
 "nbformat": 4,
 "nbformat_minor": 2
}
